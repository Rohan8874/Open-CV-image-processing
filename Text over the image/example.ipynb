{
 "cells": [
  {
   "cell_type": "code",
   "execution_count": 7,
   "metadata": {},
   "outputs": [],
   "source": [
    "import cv2"
   ]
  },
  {
   "cell_type": "code",
   "execution_count": 14,
   "metadata": {},
   "outputs": [],
   "source": [
    "img_get = cv2.imread(\"justica1.jpg\")\n",
    "img_get = cv2.resize(img_get, (400,400))\n",
    "\n",
    "txt = cv2.putText(img = img_get,\n",
    "text = \"cube4\",\n",
    "org = (50,90),\n",
    "fontFace = cv2.FONT_HERSHEY_DUPLEX,\n",
    "fontScale = 3,\n",
    "color = (0,0,255),\n",
    "thickness = 3,\n",
    "lineType = cv2.LINE_8,\n",
    "bottomLeftOrigin = False)\n",
    "\n",
    "cv2.imshow(\"Rohan\", img_get)\n",
    "cv2.waitKey(0)\n",
    "cv2.destroyAllWindows()"
   ]
  },
  {
   "cell_type": "code",
   "execution_count": null,
   "metadata": {},
   "outputs": [],
   "source": []
  }
 ],
 "metadata": {
  "kernelspec": {
   "display_name": "Python 3",
   "language": "python",
   "name": "python3"
  },
  "language_info": {
   "codemirror_mode": {
    "name": "ipython",
    "version": 3
   },
   "file_extension": ".py",
   "mimetype": "text/x-python",
   "name": "python",
   "nbconvert_exporter": "python",
   "pygments_lexer": "ipython3",
   "version": "3.12.6"
  }
 },
 "nbformat": 4,
 "nbformat_minor": 2
}
