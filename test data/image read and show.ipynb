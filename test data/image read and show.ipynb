{
 "cells": [
  {
   "cell_type": "code",
   "execution_count": 57,
   "metadata": {},
   "outputs": [],
   "source": [
    "import cv2\n",
    "import numpy as np\n",
    "import os"
   ]
  },
  {
   "cell_type": "code",
   "execution_count": 58,
   "metadata": {},
   "outputs": [],
   "source": [
    "img = cv2.imread(r\"justica1.jpg\") # image read\n",
    "re_img = cv2.resize(img, (500,700))\n",
    "cv2.imshow(\"Rohan\", re_img)         #image show\n",
    "cv2.waitKey(0)                # image frame wait time - ms and 0 pass keyboard any key press\n",
    "cv2.destroyAllWindows()          # all windows close \n",
    "# cv2.destroyWindow()              # only one window close"
   ]
  },
  {
   "cell_type": "code",
   "execution_count": 59,
   "metadata": {},
   "outputs": [
    {
     "data": {
      "text/plain": [
       "array([[1, 2, 3, 1, 2, 3, 1, 2, 3, 1, 2, 3]])"
      ]
     },
     "execution_count": 59,
     "metadata": {},
     "output_type": "execute_result"
    }
   ],
   "source": [
    "v = np.array([[1,2,3,1,2,3]])\n",
    "np.hstack((v,v))"
   ]
  },
  {
   "cell_type": "code",
   "execution_count": 60,
   "metadata": {},
   "outputs": [
    {
     "name": "stdout",
     "output_type": "stream",
     "text": [
      "[[[ 43  80 106]\n",
      "  [ 43  80 106]\n",
      "  [ 43  80 106]\n",
      "  ...\n",
      "  [ 14  34  49]\n",
      "  [ 14  34  49]\n",
      "  [ 14  34  49]]\n",
      "\n",
      " [[ 43  80 106]\n",
      "  [ 43  80 106]\n",
      "  [ 43  80 106]\n",
      "  ...\n",
      "  [ 14  34  49]\n",
      "  [ 14  34  49]\n",
      "  [ 14  34  49]]\n",
      "\n",
      " [[ 43  80 106]\n",
      "  [ 43  80 106]\n",
      "  [ 43  80 106]\n",
      "  ...\n",
      "  [ 14  34  49]\n",
      "  [ 14  34  49]\n",
      "  [ 14  34  49]]\n",
      "\n",
      " ...\n",
      "\n",
      " [[ 82  86  96]\n",
      "  [ 82  86  96]\n",
      "  [ 82  86  96]\n",
      "  ...\n",
      "  [  9  10  21]\n",
      "  [  9  10  21]\n",
      "  [  9  10  21]]\n",
      "\n",
      " [[ 82  86  96]\n",
      "  [ 82  86  96]\n",
      "  [ 82  86  96]\n",
      "  ...\n",
      "  [  9  10  21]\n",
      "  [  9  10  21]\n",
      "  [  9  10  21]]\n",
      "\n",
      " [[ 84  85  96]\n",
      "  [ 84  85  96]\n",
      "  [ 84  85  96]\n",
      "  ...\n",
      "  [  9  10  21]\n",
      "  [  9  10  21]\n",
      "  [  9  10  21]]]\n"
     ]
    }
   ],
   "source": [
    "img = cv2.imread(r\"justica1.jpg\") # image read\n",
    "print(img) # RGB"
   ]
  },
  {
   "cell_type": "code",
   "execution_count": null,
   "metadata": {},
   "outputs": [],
   "source": [
    "img = cv2.imread(r\"justica2.jpg\") # image read\n",
    "re_img = cv2.resize(img, (300,300))\n",
    "h = np.hstack((re_img,re_img,re_img))\n",
    "v = np.vstack((h,h,h))\n",
    "cv2.imshow(\"Rohan\", v)         #image show\n",
    "cv2.waitKey(0)                # image frame wait time - ms and 0 pass keyboard any key press\n",
    "cv2.destroyAllWindows()          # all windows close \n",
    "# cv2.destroyWindow()              # only one window close"
   ]
  },
  {
   "cell_type": "code",
   "execution_count": 62,
   "metadata": {},
   "outputs": [
    {
     "data": {
      "text/plain": [
       "['image read and show.ipynb', 'justica1.jpg', 'justica2.jpg', 'justica3.JPG']"
      ]
     },
     "execution_count": 62,
     "metadata": {},
     "output_type": "execute_result"
    }
   ],
   "source": [
    "list_name = os.listdir(r\"E:\\Open CV image processing\\test data\")\n",
    "list_name"
   ]
  },
  {
   "cell_type": "code",
   "execution_count": 73,
   "metadata": {},
   "outputs": [
    {
     "name": "stdout",
     "output_type": "stream",
     "text": [
      "Error loading: image read and show.ipynb\n"
     ]
    }
   ],
   "source": [
    "list_name = os.listdir(r\"E:\\Open CV image processing\\test data\")\n",
    "for name in list_name:\n",
    "    img_path = os.path.join( name)\n",
    "    img = cv2.imread(img_path)\n",
    "    \n",
    "    if img is None:\n",
    "        print(f\"Error loading: {img_path}\")\n",
    "        continue  # Skip invalid files\n",
    "    \n",
    "    img = cv2.resize(img, (500, 600))\n",
    "    cv2.imshow(\"Rohan\", img)\n",
    "    cv2.waitKey(0)\n",
    "\n",
    "cv2.destroyAllWindows()"
   ]
  },
  {
   "cell_type": "code",
   "execution_count": null,
   "metadata": {},
   "outputs": [],
   "source": []
  }
 ],
 "metadata": {
  "kernelspec": {
   "display_name": "Python 3",
   "language": "python",
   "name": "python3"
  },
  "language_info": {
   "codemirror_mode": {
    "name": "ipython",
    "version": 3
   },
   "file_extension": ".py",
   "mimetype": "text/x-python",
   "name": "python",
   "nbconvert_exporter": "python",
   "pygments_lexer": "ipython3",
   "version": "3.12.6"
  }
 },
 "nbformat": 4,
 "nbformat_minor": 2
}
