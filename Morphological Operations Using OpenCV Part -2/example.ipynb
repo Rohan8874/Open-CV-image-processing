{
 "cells": [
  {
   "cell_type": "code",
   "execution_count": 1,
   "id": "10d4a36c",
   "metadata": {},
   "outputs": [],
   "source": [
    "import cv2\n",
    "import numpy as np"
   ]
  },
  {
   "cell_type": "code",
   "execution_count": 5,
   "id": "81e64a0f",
   "metadata": {},
   "outputs": [],
   "source": [
    "img = cv2.imread(\"imgb3.jpg\")\n",
    "img = cv2.resize(img,(300,300))\n",
    "\n",
    "k = np.ones((20,20),np.int8)\n",
    "\n",
    "op = cv2.morphologyEx(img,cv2.MORPH_OPEN,k,iterations = 1)\n",
    "\n",
    "cv2.imshow(\"Rohan\",img)\n",
    "cv2.imshow(\"Rohan1\",img)\n",
    "cv2.waitKey(0)\n",
    "cv2.destroyAllWindows()"
   ]
  },
  {
   "cell_type": "code",
   "execution_count": null,
   "id": "fbfbe648",
   "metadata": {},
   "outputs": [],
   "source": []
  }
 ],
 "metadata": {
  "kernelspec": {
   "display_name": "Python 3",
   "language": "python",
   "name": "python3"
  },
  "language_info": {
   "codemirror_mode": {
    "name": "ipython",
    "version": 3
   },
   "file_extension": ".py",
   "mimetype": "text/x-python",
   "name": "python",
   "nbconvert_exporter": "python",
   "pygments_lexer": "ipython3",
   "version": "3.12.6"
  }
 },
 "nbformat": 4,
 "nbformat_minor": 5
}
