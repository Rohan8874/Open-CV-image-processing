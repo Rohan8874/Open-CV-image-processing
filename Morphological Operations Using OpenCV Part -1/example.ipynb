{
 "cells": [
  {
   "cell_type": "code",
   "execution_count": 4,
   "id": "926896ae",
   "metadata": {},
   "outputs": [],
   "source": [
    "import cv2\n",
    "import numpy as np"
   ]
  },
  {
   "cell_type": "code",
   "execution_count": 10,
   "id": "04a6899b",
   "metadata": {},
   "outputs": [],
   "source": [
    "img = cv2.imread(\"imgb3.jpg\")\n",
    "img - cv2.resize(img,(300,300))\n",
    "\n",
    "m = np.ones((5,5),np.int8)\n",
    "er = cv2.erode(img,m,iterations = 1)\n",
    "di = cv2.dilate(img,m,iterations = 1)\n",
    "\n",
    "cv2.imshow(\"Rohan\",img)\n",
    "cv2.imshow(\"Rohan1\",er)\n",
    "cv2.imshow(\"Rohan2\",di)\n",
    "\n",
    "cv2.waitKey(0)\n",
    "cv2.destroyAllWindows()"
   ]
  },
  {
   "cell_type": "code",
   "execution_count": null,
   "id": "8bdf17e3",
   "metadata": {},
   "outputs": [],
   "source": []
  }
 ],
 "metadata": {
  "kernelspec": {
   "display_name": "Python 3",
   "language": "python",
   "name": "python3"
  },
  "language_info": {
   "codemirror_mode": {
    "name": "ipython",
    "version": 3
   },
   "file_extension": ".py",
   "mimetype": "text/x-python",
   "name": "python",
   "nbconvert_exporter": "python",
   "pygments_lexer": "ipython3",
   "version": "3.12.6"
  }
 },
 "nbformat": 4,
 "nbformat_minor": 5
}
