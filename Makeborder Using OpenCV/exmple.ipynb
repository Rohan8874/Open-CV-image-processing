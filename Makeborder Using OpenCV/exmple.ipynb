{
 "cells": [
  {
   "cell_type": "code",
   "execution_count": 10,
   "id": "17328ad8",
   "metadata": {},
   "outputs": [],
   "source": [
    "import cv2\n",
    "import numpy as np"
   ]
  },
  {
   "cell_type": "code",
   "execution_count": 19,
   "id": "b5daa845",
   "metadata": {},
   "outputs": [],
   "source": [
    "img = cv2.imread(\"justica1.jpg\")\n",
    "img = cv2.resize(img,(300,300))\n",
    "\n",
    "img1 = cv2.copyMakeBorder(img,20,20,20,20,cv2.BORDER_CONSTANT,None,value=2)\n",
    "img1 = cv2.resize(img1,(300,300))\n",
    "\n",
    "img2 = cv2.copyMakeBorder(img,20,20,20,20,cv2.BORDER_DEFAULT,None,value=2)\n",
    "img2 = cv2.resize(img1,(300,300))\n",
    "\n",
    "h = np.hstack((img,img1,img2))\n",
    "\n",
    "cv2.imshow(\"Rohan\",h)\n",
    "cv2.waitKey(0)\n",
    "cv2.destroyAllWindows()"
   ]
  },
  {
   "cell_type": "code",
   "execution_count": null,
   "id": "c22ae7f9",
   "metadata": {},
   "outputs": [],
   "source": []
  }
 ],
 "metadata": {
  "kernelspec": {
   "display_name": "Python 3",
   "language": "python",
   "name": "python3"
  },
  "language_info": {
   "codemirror_mode": {
    "name": "ipython",
    "version": 3
   },
   "file_extension": ".py",
   "mimetype": "text/x-python",
   "name": "python",
   "nbconvert_exporter": "python",
   "pygments_lexer": "ipython3",
   "version": "3.12.6"
  }
 },
 "nbformat": 4,
 "nbformat_minor": 5
}
