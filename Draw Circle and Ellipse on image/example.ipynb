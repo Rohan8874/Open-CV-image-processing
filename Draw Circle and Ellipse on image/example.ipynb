{
 "cells": [
  {
   "cell_type": "code",
   "execution_count": 1,
   "id": "00a1f46e",
   "metadata": {},
   "outputs": [],
   "source": [
    "import cv2"
   ]
  },
  {
   "cell_type": "code",
   "execution_count": null,
   "id": "3b81210a",
   "metadata": {},
   "outputs": [],
   "source": [
    "old_img = cv2.imread(\"justica1.jpg\")\n",
    "old_img = cv2.resize(old_img, (500,600))\n",
    "\n",
    "new_img = cv2.circle(img= old_img,center= (240,190),radius= (100),color= (0,255,0),thickness= 4,lineType= 16)\n",
    "\n",
    "cv2.imshow(\"rohan\",old_img)\n",
    "cv2.waitKey(0)\n",
    "cv2.destroyAllWindows()"
   ]
  },
  {
   "cell_type": "code",
   "execution_count": 19,
   "id": "4e849965",
   "metadata": {},
   "outputs": [],
   "source": [
    "old_img = cv2.imread(\"justica1.jpg\")\n",
    "old_img = cv2.resize(old_img, (500,600))\n",
    "\n",
    "new_img = cv2.ellipse(img= old_img,center= (240,190),axes= (100,50),angle= 70,startAngle= 0,endAngle= 360,color= (0,255,0),thickness= 4,lineType= 16)\n",
    "\n",
    "cv2.imshow(\"rohan\",old_img)\n",
    "cv2.waitKey(0)\n",
    "cv2.destroyAllWindows()"
   ]
  },
  {
   "cell_type": "code",
   "execution_count": null,
   "id": "09695e74",
   "metadata": {},
   "outputs": [],
   "source": []
  }
 ],
 "metadata": {
  "kernelspec": {
   "display_name": "Python 3",
   "language": "python",
   "name": "python3"
  },
  "language_info": {
   "codemirror_mode": {
    "name": "ipython",
    "version": 3
   },
   "file_extension": ".py",
   "mimetype": "text/x-python",
   "name": "python",
   "nbconvert_exporter": "python",
   "pygments_lexer": "ipython3",
   "version": "3.12.6"
  }
 },
 "nbformat": 4,
 "nbformat_minor": 5
}
