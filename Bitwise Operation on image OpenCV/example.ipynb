{
 "cells": [
  {
   "cell_type": "code",
   "execution_count": 2,
   "id": "99420ea1",
   "metadata": {},
   "outputs": [],
   "source": [
    "import cv2\n",
    "import numpy as np"
   ]
  },
  {
   "cell_type": "code",
   "execution_count": 4,
   "id": "f14029b4",
   "metadata": {},
   "outputs": [],
   "source": [
    "img1 = cv2.imread(\"imgb1.png\")\n",
    "img2 = cv2.imread(\"imgb2.png\")\n",
    "\n",
    "img1 = cv2.resize(img1,(200,200))\n",
    "img2 = cv2.resize(img2,(200,200))\n",
    "\n",
    "# new_img = cv2.bitwise_and(img1,img2)\n",
    "# new_img = cv2.bitwise_or(img1,img2)\n",
    "# new_img = cv2.bitwise_xor(img1,img2)\n",
    "new_img = cv2.bitwise_not(img1)\n",
    "new_img1 = cv2.bitwise_not(img2)\n",
    "\n",
    "h = np.hstack((img1,new_img))\n",
    "h1= np.hstack((img2,new_img1))\n",
    "\n",
    "v = np.vstack((h,h1))\n",
    "\n",
    "cv2.imshow(\"Rohan\",v)\n",
    "cv2.waitKey(0)\n",
    "cv2.destroyAllWindows()\n"
   ]
  },
  {
   "cell_type": "code",
   "execution_count": 6,
   "id": "7dfdd971",
   "metadata": {},
   "outputs": [],
   "source": [
    "img1 = cv2.imread(\"justica1.jpg\")\n",
    "\n",
    "img1 = cv2.resize(img1,(500,500))\n",
    "\n",
    "new_img = cv2.bitwise_not(img1)\n",
    "\n",
    "\n",
    "\n",
    "cv2.imshow(\"Rohan\",new_img)\n",
    "cv2.waitKey(0)\n",
    "cv2.destroyAllWindows()"
   ]
  },
  {
   "cell_type": "code",
   "execution_count": null,
   "id": "2609de27",
   "metadata": {},
   "outputs": [],
   "source": []
  }
 ],
 "metadata": {
  "kernelspec": {
   "display_name": "Python 3",
   "language": "python",
   "name": "python3"
  },
  "language_info": {
   "codemirror_mode": {
    "name": "ipython",
    "version": 3
   },
   "file_extension": ".py",
   "mimetype": "text/x-python",
   "name": "python",
   "nbconvert_exporter": "python",
   "pygments_lexer": "ipython3",
   "version": "3.12.6"
  }
 },
 "nbformat": 4,
 "nbformat_minor": 5
}
