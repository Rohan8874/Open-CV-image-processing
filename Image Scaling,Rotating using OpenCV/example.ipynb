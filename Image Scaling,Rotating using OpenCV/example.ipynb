{
 "cells": [
  {
   "cell_type": "code",
   "execution_count": 20,
   "id": "355e32ab",
   "metadata": {},
   "outputs": [],
   "source": [
    "import cv2\n",
    "import numpy as np"
   ]
  },
  {
   "cell_type": "code",
   "execution_count": 18,
   "id": "4e3cc4ed",
   "metadata": {},
   "outputs": [],
   "source": [
    "org_img = cv2.imread(\"justica1.jpg\")\n",
    "res_img = cv2.resize(org_img,(500,500))\n",
    "\n",
    "cv2.imshow(\"Rohan2\",res_img)\n",
    "cv2.imshow(\"Rohan\",org_img)\n",
    "\n",
    "cv2.waitKey(0)\n",
    "cv2.destroyAllWindows()"
   ]
  },
  {
   "cell_type": "code",
   "execution_count": 24,
   "id": "e2aff901",
   "metadata": {},
   "outputs": [],
   "source": [
    "org_img = cv2.imread(\"justica1.jpg\")\n",
    "res_img = cv2.resize(org_img,(500,500))\n",
    "w,h = res_img.shape[0], res_img.shape[1]\n",
    "w,h\n",
    "\n",
    "m = cv2.getRotationMatrix2D((w/2,h/2),90,1)\n",
    "new_img= cv2.warpAffine(res_img,m,(h,w))\n",
    "\n",
    "h = np.hstack((res_img,new_img))\n",
    "cv2.imshow(\"Rohan\",h)\n",
    "cv2.waitKey(0)\n",
    "cv2.destroyAllWindows()"
   ]
  },
  {
   "cell_type": "code",
   "execution_count": null,
   "id": "4519808a",
   "metadata": {},
   "outputs": [],
   "source": []
  }
 ],
 "metadata": {
  "kernelspec": {
   "display_name": "Python 3",
   "language": "python",
   "name": "python3"
  },
  "language_info": {
   "codemirror_mode": {
    "name": "ipython",
    "version": 3
   },
   "file_extension": ".py",
   "mimetype": "text/x-python",
   "name": "python",
   "nbconvert_exporter": "python",
   "pygments_lexer": "ipython3",
   "version": "3.12.6"
  }
 },
 "nbformat": 4,
 "nbformat_minor": 5
}
