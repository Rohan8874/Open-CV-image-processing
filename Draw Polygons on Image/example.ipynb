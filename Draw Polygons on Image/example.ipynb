{
 "cells": [
  {
   "cell_type": "code",
   "execution_count": 2,
   "id": "f25058ad",
   "metadata": {},
   "outputs": [],
   "source": [
    "import cv2\n",
    "import numpy as np"
   ]
  },
  {
   "cell_type": "code",
   "execution_count": 16,
   "id": "dbb4b776",
   "metadata": {},
   "outputs": [],
   "source": [
    "old_img = cv2.imread(\"justica1.jpg\")\n",
    "old_img = cv2.resize(old_img, (500,600))\n",
    "\n",
    "new_img = cv2.polylines(img= old_img,pts = [np.array([[150,100],[200,50],[300,100],[300,300],[150,250]])],isClosed = True,color= (0,255,0),thickness= 4,lineType= 16)\n",
    "\n",
    "cv2.imshow(\"rohan\",old_img)\n",
    "cv2.waitKey(0)\n",
    "cv2.destroyAllWindows()"
   ]
  },
  {
   "cell_type": "code",
   "execution_count": null,
   "id": "77312322",
   "metadata": {},
   "outputs": [],
   "source": []
  }
 ],
 "metadata": {
  "kernelspec": {
   "display_name": "Python 3",
   "language": "python",
   "name": "python3"
  },
  "language_info": {
   "codemirror_mode": {
    "name": "ipython",
    "version": 3
   },
   "file_extension": ".py",
   "mimetype": "text/x-python",
   "name": "python",
   "nbconvert_exporter": "python",
   "pygments_lexer": "ipython3",
   "version": "3.12.6"
  }
 },
 "nbformat": 4,
 "nbformat_minor": 5
}
