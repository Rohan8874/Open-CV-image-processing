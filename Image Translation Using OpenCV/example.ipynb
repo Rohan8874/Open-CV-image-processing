{
 "cells": [
  {
   "cell_type": "code",
   "execution_count": 2,
   "id": "e0d027b0",
   "metadata": {},
   "outputs": [],
   "source": [
    "import cv2\n",
    "import numpy as np"
   ]
  },
  {
   "cell_type": "code",
   "execution_count": 5,
   "id": "6b7dbb02",
   "metadata": {},
   "outputs": [],
   "source": [
    "img = cv2.imread(\"justica1.jpg\")\n",
    "img = cv2.resize(img,(300,300))\n",
    "\n",
    "m = np.float32([[1,0,100],[0,1,50]])\n",
    "\n",
    "new = cv2.warpAffine(img, m,(300,300))\n",
    "\n",
    "cv2.imshow(\"Rohan\",img)\n",
    "cv2.imshow(\"Rohan2\",m)\n",
    "cv2.imshow(\"Rohan3\",new)\n",
    "cv2.waitKey(0)\n",
    "cv2.destroyAllWindows()"
   ]
  },
  {
   "cell_type": "code",
   "execution_count": null,
   "id": "eace0b1c",
   "metadata": {},
   "outputs": [],
   "source": []
  }
 ],
 "metadata": {
  "kernelspec": {
   "display_name": "Python 3",
   "language": "python",
   "name": "python3"
  },
  "language_info": {
   "codemirror_mode": {
    "name": "ipython",
    "version": 3
   },
   "file_extension": ".py",
   "mimetype": "text/x-python",
   "name": "python",
   "nbconvert_exporter": "python",
   "pygments_lexer": "ipython3",
   "version": "3.12.6"
  }
 },
 "nbformat": 4,
 "nbformat_minor": 5
}
