{
 "cells": [
  {
   "cell_type": "code",
   "execution_count": 5,
   "id": "0a75515a",
   "metadata": {},
   "outputs": [],
   "source": [
    "import cv2\n"
   ]
  },
  {
   "cell_type": "code",
   "execution_count": 10,
   "id": "02d5c0e2",
   "metadata": {},
   "outputs": [
    {
     "name": "stdout",
     "output_type": "stream",
     "text": [
      "(500, 500, 3)\n",
      "(500, 500)\n"
     ]
    }
   ],
   "source": [
    "img = cv2.imread(\"justica1.jpg\")\n",
    "img = cv2.resize(img,(500,500))\n",
    "print(img.shape)\n",
    "\n",
    "new_img = cv2.Canny(img,100,200,apertureSize =5,L2gradient = True)\n",
    "print(new_img.shape)\n",
    "\n",
    "cv2.imshow(\"Rohan\",new_img)\n",
    "cv2.imshow(\"Rohan1\",img)\n",
    "cv2.waitKey(0)\n",
    "cv2.destroyAllWindows()"
   ]
  },
  {
   "cell_type": "code",
   "execution_count": null,
   "id": "9ca59653",
   "metadata": {},
   "outputs": [],
   "source": []
  }
 ],
 "metadata": {
  "kernelspec": {
   "display_name": "Python 3",
   "language": "python",
   "name": "python3"
  },
  "language_info": {
   "codemirror_mode": {
    "name": "ipython",
    "version": 3
   },
   "file_extension": ".py",
   "mimetype": "text/x-python",
   "name": "python",
   "nbconvert_exporter": "python",
   "pygments_lexer": "ipython3",
   "version": "3.12.6"
  }
 },
 "nbformat": 4,
 "nbformat_minor": 5
}
