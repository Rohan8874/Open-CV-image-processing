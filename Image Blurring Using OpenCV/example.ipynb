{
 "cells": [
  {
   "cell_type": "code",
   "execution_count": 10,
   "id": "0a99bdb8",
   "metadata": {},
   "outputs": [],
   "source": [
    "import cv2\n",
    "import numpy as np"
   ]
  },
  {
   "cell_type": "code",
   "execution_count": 17,
   "id": "3ed1b6d5",
   "metadata": {},
   "outputs": [],
   "source": [
    "org_img = cv2.imread(\"justica1.jpg\")\n",
    "res_img = cv2.resize(org_img,(300,300))\n",
    "\n",
    "g = cv2.GaussianBlur(res_img,(7,7),0)\n",
    "m = cv2.medianBlur(res_img,5)\n",
    "b = cv2.bilateralFilter(res_img,9,75,75)\n",
    "\n",
    "h = np.hstack((res_img,g,m,b))\n",
    "cv2.imshow(\"Rohan\",h)\n",
    "cv2.waitKey(0)\n",
    "cv2.destroyAllWindows()"
   ]
  },
  {
   "cell_type": "code",
   "execution_count": null,
   "id": "5c5debf4",
   "metadata": {},
   "outputs": [],
   "source": []
  },
  {
   "cell_type": "code",
   "execution_count": null,
   "id": "5c7ad387",
   "metadata": {},
   "outputs": [],
   "source": []
  }
 ],
 "metadata": {
  "kernelspec": {
   "display_name": "Python 3",
   "language": "python",
   "name": "python3"
  },
  "language_info": {
   "codemirror_mode": {
    "name": "ipython",
    "version": 3
   },
   "file_extension": ".py",
   "mimetype": "text/x-python",
   "name": "python",
   "nbconvert_exporter": "python",
   "pygments_lexer": "ipython3",
   "version": "3.12.6"
  }
 },
 "nbformat": 4,
 "nbformat_minor": 5
}
