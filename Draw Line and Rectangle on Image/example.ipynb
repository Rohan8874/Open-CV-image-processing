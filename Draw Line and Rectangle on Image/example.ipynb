{
 "cells": [
  {
   "cell_type": "code",
   "execution_count": 10,
   "metadata": {},
   "outputs": [],
   "source": [
    "import cv2"
   ]
  },
  {
   "cell_type": "code",
   "execution_count": 11,
   "metadata": {},
   "outputs": [],
   "source": [
    "old_img = cv2.imread(\"justica1.jpg\")\n",
    "old_img = cv2.resize(old_img,(400,500))\n",
    "\n",
    "new_img = cv2.line(img = old_img, pt1 = (150,70), pt2 = (230,70), color = (0,255,0), thickness = 4,lineType = 4)\n",
    "\n",
    "cv2.imshow(\"Rohan\", new_img)\n",
    "cv2.waitKey(0)\n",
    "cv2.destroyAllWindows()"
   ]
  },
  {
   "cell_type": "code",
   "execution_count": 12,
   "metadata": {},
   "outputs": [],
   "source": [
    "old_img = cv2.imread(\"justica1.jpg\")\n",
    "old_img = cv2.resize(old_img,(400,500))\n",
    "\n",
    "new_img = cv2.rectangle(img = old_img, pt1 = (150,70), pt2 = (230,240), color = (0,255,0), thickness = 4,lineType = 4)\n",
    "\n",
    "cv2.imshow(\"Rohan\", new_img)\n",
    "cv2.waitKey(0)\n",
    "cv2.destroyAllWindows()"
   ]
  }
 ],
 "metadata": {
  "kernelspec": {
   "display_name": "Python 3",
   "language": "python",
   "name": "python3"
  },
  "language_info": {
   "codemirror_mode": {
    "name": "ipython",
    "version": 3
   },
   "file_extension": ".py",
   "mimetype": "text/x-python",
   "name": "python",
   "nbconvert_exporter": "python",
   "pygments_lexer": "ipython3",
   "version": "3.12.6"
  }
 },
 "nbformat": 4,
 "nbformat_minor": 2
}
