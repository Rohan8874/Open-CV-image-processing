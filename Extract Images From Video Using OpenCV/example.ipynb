{
 "cells": [
  {
   "cell_type": "code",
   "execution_count": 1,
   "id": "3030071d",
   "metadata": {},
   "outputs": [],
   "source": [
    "import cv2"
   ]
  },
  {
   "cell_type": "code",
   "execution_count": 6,
   "id": "955b7bff",
   "metadata": {},
   "outputs": [],
   "source": [
    "cap = cv2.VideoCapture(\"new_video.mp4\")\n",
    "c=0\n",
    "while True:\n",
    "    r,frame = cap.read()\n",
    "    if r == True:\n",
    "\n",
    "        filename = \"E://Open CV image processing//Extract Images From Video Using OpenCV//video Images//org_img_\"+str(c)+\".png\"\n",
    "        cv2.imwrite(filename,frame)\n",
    "        cv2.imshow(\"Rohan\",frame)\n",
    "        c = c+1\n",
    "        if cv2.waitKey(25) & 0xff == ord(\"p\"):\n",
    "            break\n",
    "    else:\n",
    "        break\n",
    "cap.release()\n",
    "cv2.destroyAllWindows()"
   ]
  },
  {
   "cell_type": "code",
   "execution_count": null,
   "id": "bd5655b3",
   "metadata": {},
   "outputs": [],
   "source": []
  }
 ],
 "metadata": {
  "kernelspec": {
   "display_name": "Python 3",
   "language": "python",
   "name": "python3"
  },
  "language_info": {
   "codemirror_mode": {
    "name": "ipython",
    "version": 3
   },
   "file_extension": ".py",
   "mimetype": "text/x-python",
   "name": "python",
   "nbconvert_exporter": "python",
   "pygments_lexer": "ipython3",
   "version": "3.12.6"
  }
 },
 "nbformat": 4,
 "nbformat_minor": 5
}
