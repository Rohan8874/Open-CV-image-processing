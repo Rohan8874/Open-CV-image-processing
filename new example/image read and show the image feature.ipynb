{
 "cells": [
  {
   "cell_type": "code",
   "execution_count": 11,
   "metadata": {},
   "outputs": [],
   "source": [
    "import cv2"
   ]
  },
  {
   "cell_type": "code",
   "execution_count": 15,
   "metadata": {},
   "outputs": [
    {
     "name": "stdout",
     "output_type": "stream",
     "text": [
      "(1365, 2048, 3)\n"
     ]
    }
   ],
   "source": [
    "img = cv2.imread(\"justica1.jpg\", 1)\n",
    "print(img.shape)\n",
    "img = cv2.resize(img , (500,500))\n",
    "cv2.imshow(\"Rohan\", img)\n",
    "cv2.waitKey(0)\n",
    "cv2.destroyAllWindows()"
   ]
  },
  {
   "cell_type": "code",
   "execution_count": 16,
   "metadata": {},
   "outputs": [
    {
     "name": "stdout",
     "output_type": "stream",
     "text": [
      "(1365, 2048, 3)\n"
     ]
    }
   ],
   "source": [
    "img = cv2.imread(\"justica1.jpg\", -1)\n",
    "print(img.shape)\n",
    "img = cv2.resize(img , (500,500))\n",
    "cv2.imshow(\"Rohan\", img)\n",
    "cv2.waitKey(0)\n",
    "cv2.destroyAllWindows()"
   ]
  },
  {
   "cell_type": "code",
   "execution_count": 17,
   "metadata": {},
   "outputs": [
    {
     "name": "stdout",
     "output_type": "stream",
     "text": [
      "(1365, 2048)\n"
     ]
    }
   ],
   "source": [
    "img = cv2.imread(\"justica1.jpg\", 0)\n",
    "print(img.shape)\n",
    "img = cv2.resize(img , (500,500))\n",
    "cv2.imshow(\"Rohan\", img)\n",
    "cv2.waitKey(0)\n",
    "cv2.destroyAllWindows()"
   ]
  },
  {
   "cell_type": "code",
   "execution_count": null,
   "metadata": {},
   "outputs": [],
   "source": []
  }
 ],
 "metadata": {
  "kernelspec": {
   "display_name": "Python 3",
   "language": "python",
   "name": "python3"
  },
  "language_info": {
   "codemirror_mode": {
    "name": "ipython",
    "version": 3
   },
   "file_extension": ".py",
   "mimetype": "text/x-python",
   "name": "python",
   "nbconvert_exporter": "python",
   "pygments_lexer": "ipython3",
   "version": "3.12.6"
  }
 },
 "nbformat": 4,
 "nbformat_minor": 2
}
