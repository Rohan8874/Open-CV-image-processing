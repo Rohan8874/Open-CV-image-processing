{
 "cells": [
  {
   "cell_type": "code",
   "execution_count": 2,
   "id": "70d6dc4f",
   "metadata": {},
   "outputs": [],
   "source": [
    "import cv2\n",
    "import numpy as np"
   ]
  },
  {
   "cell_type": "code",
   "execution_count": null,
   "id": "1fe54cfb",
   "metadata": {},
   "outputs": [],
   "source": [
    "# img = cv2.imread(\"justica1.jpg\")\n",
    "# img = cv2.resize(img,(300,300))\n",
    "\n",
    "\n",
    "# cv2.imshow(\"Rohan\",img)\n",
    "# cv2.waitKey(0)\n",
    "# cv2.destroyAllWindows()"
   ]
  },
  {
   "cell_type": "code",
   "execution_count": 4,
   "id": "b3faa5c4",
   "metadata": {},
   "outputs": [
    {
     "name": "stdout",
     "output_type": "stream",
     "text": [
      "(1365, 2048, 3)\n",
      "(683, 1024, 3)\n",
      "(342, 512, 3)\n",
      "(171, 256, 3)\n"
     ]
    }
   ],
   "source": [
    "img = cv2.imread(\"justica1.jpg\")\n",
    "print(img.shape)\n",
    "\n",
    "new = cv2.pyrDown(img)\n",
    "print (new.shape)\n",
    "\n",
    "new1 = cv2.pyrDown(new)\n",
    "print (new1.shape)\n",
    "\n",
    "new2 = cv2.pyrDown(new1)\n",
    "print (new2.shape)\n",
    "\n",
    "cv2.imshow(\"Rohan\",img)\n",
    "cv2.imshow(\"Rohan1\",new)\n",
    "cv2.imshow(\"Rohan2\",new1)\n",
    "cv2.imshow(\"Rohan3\",new2)\n",
    "cv2.waitKey(0)\n",
    "cv2.destroyAllWindows()"
   ]
  },
  {
   "cell_type": "code",
   "execution_count": null,
   "id": "1a1fd19d",
   "metadata": {},
   "outputs": [],
   "source": []
  }
 ],
 "metadata": {
  "kernelspec": {
   "display_name": "Python 3",
   "language": "python",
   "name": "python3"
  },
  "language_info": {
   "codemirror_mode": {
    "name": "ipython",
    "version": 3
   },
   "file_extension": ".py",
   "mimetype": "text/x-python",
   "name": "python",
   "nbconvert_exporter": "python",
   "pygments_lexer": "ipython3",
   "version": "3.12.6"
  }
 },
 "nbformat": 4,
 "nbformat_minor": 5
}
